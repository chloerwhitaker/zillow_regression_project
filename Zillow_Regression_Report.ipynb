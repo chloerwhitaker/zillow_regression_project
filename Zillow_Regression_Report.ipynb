{
 "cells": [
  {
   "cell_type": "markdown",
   "id": "3c99207d",
   "metadata": {},
   "source": [
    "# How Much is Your Home Worth? \n",
    "\n",
    "# Zillow Knows, Now the World Can Too. "
   ]
  },
  {
   "cell_type": "markdown",
   "id": "37891d3e",
   "metadata": {},
   "source": [
    "## About the Project: "
   ]
  },
  {
   "cell_type": "markdown",
   "id": "3a6798c4",
   "metadata": {},
   "source": [
    "### Project Goals:"
   ]
  },
  {
   "cell_type": "markdown",
   "id": "0ef0e838",
   "metadata": {},
   "source": [
    "My goal is to produce a better model so that Zillow can more accuracatley predict the property assessed values of single family homes that had a transaction in 2017. "
   ]
  },
  {
   "cell_type": "markdown",
   "id": "a3028d1a",
   "metadata": {},
   "source": [
    "### Project Description: "
   ]
  },
  {
   "cell_type": "markdown",
   "id": "4ae4e9b3",
   "metadata": {},
   "source": [
    "New/better model needed. Zillow already has a model to predict the property assessed values of single family homes, however, they aren't fully satisfied with the result and are looking for a more accurate model. I will be looking at drivers of home value such as squarefootage, and number of rooms and bathrooms to most accurately prdict the tax value. I will be focusing on single family homes in three Soutnern California counties that had a transaction in 2017. My recommendations will be the features that prodecuded the best model and my goal is to create a model that out preform's Zillow's current one. "
   ]
  },
  {
   "cell_type": "markdown",
   "id": "2853e501",
   "metadata": {},
   "source": [
    "### Initial Questions: \n"
   ]
  },
  {
   "cell_type": "markdown",
   "id": "2836657f",
   "metadata": {},
   "source": [
    "- Why would a house cost more than another with the same physical features? \n",
    "\n",
    "- Do home values vary drastically by county? \n",
    "\n",
    "- Does certain attributes have more value than other i.e. does more rooms directly impact value? \n",
    "    - does more bathrroms directly impact value? \n",
    "    - do rooms add more value than bathrooms? \n",
    "\n",
    "- Does squarefootage impact home value? \n"
   ]
  },
  {
   "cell_type": "markdown",
   "id": "cf3369d9",
   "metadata": {},
   "source": [
    "### Data Dictionary"
   ]
  },
  {
   "cell_type": "markdown",
   "id": "fffe4b09",
   "metadata": {},
   "source": [
    "A list of the variables in the dataframe and their meaning. \n",
    "\n",
    "| Variable       | Description                         |\n",
    "| -------------- | ----------------------------------- |\n",
    "| num_beds       | The number of bedrooms a house has  | \n",
    "| num_baths      | The number of bathrooms a house has |\n",
    "| square_footage | The square feet of the house        |\n",
    "| tax_value      | The tax value of the house          |\n",
    "| year_built     | The year the house was built        |\n",
    "| county_code    | The county the house is in          |"
   ]
  },
  {
   "cell_type": "markdown",
   "id": "840657b6",
   "metadata": {},
   "source": [
    "# Let's Get Started..."
   ]
  },
  {
   "cell_type": "markdown",
   "id": "a70a338c",
   "metadata": {},
   "source": [
    "## Imports Needed"
   ]
  },
  {
   "cell_type": "code",
   "execution_count": 1,
   "id": "84e08071",
   "metadata": {},
   "outputs": [],
   "source": [
    "# Standard Libraries: \n",
    "import pandas as pd\n",
    "import numpy as np \n",
    "\n",
    "# Visuals:\n",
    "import matplotlib.pyplot as plt\n",
    "import seaborn as sns\n",
    "\n",
    "# Stats:\n",
    "from scipy import stats\n",
    "\n",
    "# Splitting\n",
    "from sklearn.model_selection import train_test_split\n",
    "\n",
    "# Modeling\n",
    "from sklearn.metrics import mean_squared_error\n",
    "from sklearn.linear_model import LinearRegression, LassoLars, TweedieRegressor\n",
    "from sklearn.preprocessing import PolynomialFeatures\n",
    "from sklearn.metrics import explained_variance_score\n",
    "from sklearn.linear_model import TweedieRegressor\n",
    "import sklearn.preprocessing\n",
    "\n",
    "# My Files\n",
    "from env import host, user, password\n",
    "import wrangle\n",
    "import explore\n",
    "import model\n",
    "\n",
    "# Ignore Warnings\n",
    "import warnings\n",
    "warnings.filterwarnings(\"ignore\")"
   ]
  },
  {
   "cell_type": "markdown",
   "id": "6570b3d8",
   "metadata": {},
   "source": [
    "## Acquiring and Wrangle"
   ]
  },
  {
   "cell_type": "markdown",
   "id": "91b60e33",
   "metadata": {},
   "source": [
    "Use wrangle.py to both acquire the Zillow data from the SQL database, and then prepare the data for exploration and modeling. "
   ]
  },
  {
   "cell_type": "code",
   "execution_count": 2,
   "id": "68cd8a49",
   "metadata": {},
   "outputs": [],
   "source": [
    "# Use the function wrangle_zillow from zillow.py to acuire data and split\n",
    "\n",
    "train, validate, test = wrangle.wrangle_zillow()"
   ]
  },
  {
   "cell_type": "code",
   "execution_count": 3,
   "id": "3e2f8d40",
   "metadata": {},
   "outputs": [
    {
     "data": {
      "text/html": [
       "<div>\n",
       "<style scoped>\n",
       "    .dataframe tbody tr th:only-of-type {\n",
       "        vertical-align: middle;\n",
       "    }\n",
       "\n",
       "    .dataframe tbody tr th {\n",
       "        vertical-align: top;\n",
       "    }\n",
       "\n",
       "    .dataframe thead th {\n",
       "        text-align: right;\n",
       "    }\n",
       "</style>\n",
       "<table border=\"1\" class=\"dataframe\">\n",
       "  <thead>\n",
       "    <tr style=\"text-align: right;\">\n",
       "      <th></th>\n",
       "      <th>num_beds</th>\n",
       "      <th>num_baths</th>\n",
       "      <th>square_footage</th>\n",
       "      <th>tax_value</th>\n",
       "      <th>year_built</th>\n",
       "      <th>county_code</th>\n",
       "    </tr>\n",
       "  </thead>\n",
       "  <tbody>\n",
       "    <tr>\n",
       "      <th>29516</th>\n",
       "      <td>4.0</td>\n",
       "      <td>2.5</td>\n",
       "      <td>1470.0</td>\n",
       "      <td>311578.0</td>\n",
       "      <td>1978.0</td>\n",
       "      <td>6059.0</td>\n",
       "    </tr>\n",
       "    <tr>\n",
       "      <th>41702</th>\n",
       "      <td>4.0</td>\n",
       "      <td>2.0</td>\n",
       "      <td>1208.0</td>\n",
       "      <td>306475.0</td>\n",
       "      <td>1956.0</td>\n",
       "      <td>6059.0</td>\n",
       "    </tr>\n",
       "    <tr>\n",
       "      <th>4232</th>\n",
       "      <td>3.0</td>\n",
       "      <td>3.0</td>\n",
       "      <td>2063.0</td>\n",
       "      <td>124214.0</td>\n",
       "      <td>1956.0</td>\n",
       "      <td>6037.0</td>\n",
       "    </tr>\n",
       "    <tr>\n",
       "      <th>12495</th>\n",
       "      <td>2.0</td>\n",
       "      <td>1.0</td>\n",
       "      <td>1984.0</td>\n",
       "      <td>71410.0</td>\n",
       "      <td>1913.0</td>\n",
       "      <td>6037.0</td>\n",
       "    </tr>\n",
       "    <tr>\n",
       "      <th>38584</th>\n",
       "      <td>3.0</td>\n",
       "      <td>2.0</td>\n",
       "      <td>1430.0</td>\n",
       "      <td>203928.0</td>\n",
       "      <td>1950.0</td>\n",
       "      <td>6037.0</td>\n",
       "    </tr>\n",
       "  </tbody>\n",
       "</table>\n",
       "</div>"
      ],
      "text/plain": [
       "       num_beds  num_baths  square_footage  tax_value year_built county_code\n",
       "29516       4.0        2.5          1470.0   311578.0     1978.0      6059.0\n",
       "41702       4.0        2.0          1208.0   306475.0     1956.0      6059.0\n",
       "4232        3.0        3.0          2063.0   124214.0     1956.0      6037.0\n",
       "12495       2.0        1.0          1984.0    71410.0     1913.0      6037.0\n",
       "38584       3.0        2.0          1430.0   203928.0     1950.0      6037.0"
      ]
     },
     "execution_count": 3,
     "metadata": {},
     "output_type": "execute_result"
    }
   ],
   "source": [
    "# confirm reading in the correct data\n",
    "train.head()"
   ]
  },
  {
   "cell_type": "code",
   "execution_count": 4,
   "id": "f7c31ece",
   "metadata": {},
   "outputs": [],
   "source": [
    "# Run split_tvt_into_variables / the target is tax_value\n",
    "train, validate, test, X_train, y_train, X_validate, y_validate, X_test, y_test = wrangle.split_tvt_into_variables(train, validate, test, target='tax_value')"
   ]
  },
  {
   "cell_type": "code",
   "execution_count": 5,
   "id": "fed59b84",
   "metadata": {},
   "outputs": [],
   "source": [
    "# Confirm results of slpit\n",
    "# X_train.head()"
   ]
  },
  {
   "cell_type": "code",
   "execution_count": 6,
   "id": "82b801ea",
   "metadata": {},
   "outputs": [],
   "source": [
    "# Confirm results of slpit\n",
    "# y_train.head()"
   ]
  },
  {
   "cell_type": "code",
   "execution_count": 7,
   "id": "0f1b818c",
   "metadata": {},
   "outputs": [],
   "source": [
    "scaler, X_train_scaled, X_validate_scaled, X_test_scaled = wrangle.Min_Max_Scaler(X_train, X_validate, X_test)"
   ]
  },
  {
   "cell_type": "code",
   "execution_count": 8,
   "id": "cdd919d6",
   "metadata": {},
   "outputs": [],
   "source": [
    "# Confirm the results of scale\n",
    "# X_train_scaled.head()"
   ]
  },
  {
   "cell_type": "markdown",
   "id": "10dfc344",
   "metadata": {},
   "source": [
    "## Exploration"
   ]
  },
  {
   "cell_type": "markdown",
   "id": "30376789",
   "metadata": {},
   "source": [
    "Before the model can be created I need to explore the zillow data to find the variables that correlate to increased home values. "
   ]
  },
  {
   "cell_type": "markdown",
   "id": "c69a6b8a",
   "metadata": {},
   "source": [
    "To see what features drive home value I created a correlation matrix. If you look at the tax_value row on the left yout can read accross the columns to see that square footage, the number of bathrooms, and the number of bedrooms all correlate to tax value in that order. Square footage having the highest correlation and number of bedrooms having the least. You can also see from this matrix that all of the variables are correlated, meaning that more square footage also means more bathrooms, and the more bedrooms there are the more bathrooms and more square feet. \n",
    "\n",
    "Looking under the square_footage column we can see that is has a higher correlation to bathrooms than bedrooms. \n",
    "\n",
    "Takeaway: The bigger the house, the higher the value. The higher the value the more bathrooms and bedrooms it has, although there will be more bathrroms than bedrooms. "
   ]
  },
  {
   "cell_type": "code",
   "execution_count": 9,
   "id": "ed0f0939",
   "metadata": {},
   "outputs": [
    {
     "data": {
      "text/html": [
       "<div>\n",
       "<style scoped>\n",
       "    .dataframe tbody tr th:only-of-type {\n",
       "        vertical-align: middle;\n",
       "    }\n",
       "\n",
       "    .dataframe tbody tr th {\n",
       "        vertical-align: top;\n",
       "    }\n",
       "\n",
       "    .dataframe thead th {\n",
       "        text-align: right;\n",
       "    }\n",
       "</style>\n",
       "<table border=\"1\" class=\"dataframe\">\n",
       "  <thead>\n",
       "    <tr style=\"text-align: right;\">\n",
       "      <th></th>\n",
       "      <th>num_beds</th>\n",
       "      <th>num_baths</th>\n",
       "      <th>square_footage</th>\n",
       "      <th>tax_value</th>\n",
       "    </tr>\n",
       "  </thead>\n",
       "  <tbody>\n",
       "    <tr>\n",
       "      <th>num_beds</th>\n",
       "      <td>1.000000</td>\n",
       "      <td>0.579184</td>\n",
       "      <td>0.607678</td>\n",
       "      <td>0.194477</td>\n",
       "    </tr>\n",
       "    <tr>\n",
       "      <th>num_baths</th>\n",
       "      <td>0.579184</td>\n",
       "      <td>1.000000</td>\n",
       "      <td>0.774739</td>\n",
       "      <td>0.359318</td>\n",
       "    </tr>\n",
       "    <tr>\n",
       "      <th>square_footage</th>\n",
       "      <td>0.607678</td>\n",
       "      <td>0.774739</td>\n",
       "      <td>1.000000</td>\n",
       "      <td>0.431936</td>\n",
       "    </tr>\n",
       "    <tr>\n",
       "      <th>tax_value</th>\n",
       "      <td>0.194477</td>\n",
       "      <td>0.359318</td>\n",
       "      <td>0.431936</td>\n",
       "      <td>1.000000</td>\n",
       "    </tr>\n",
       "  </tbody>\n",
       "</table>\n",
       "</div>"
      ],
      "text/plain": [
       "                num_beds  num_baths  square_footage  tax_value\n",
       "num_beds        1.000000   0.579184        0.607678   0.194477\n",
       "num_baths       0.579184   1.000000        0.774739   0.359318\n",
       "square_footage  0.607678   0.774739        1.000000   0.431936\n",
       "tax_value       0.194477   0.359318        0.431936   1.000000"
      ]
     },
     "execution_count": 9,
     "metadata": {},
     "output_type": "execute_result"
    }
   ],
   "source": [
    "# Correlation Matrix\n",
    "corr_df = pd.concat([X_train_scaled, y_train], axis=1)\n",
    "corrs = corr_df.corr()\n",
    "corrs"
   ]
  },
  {
   "cell_type": "markdown",
   "id": "9067452c",
   "metadata": {},
   "source": [
    "### Let's visualize the takeaways: "
   ]
  },
  {
   "cell_type": "code",
   "execution_count": 10,
   "id": "8cf73f4c",
   "metadata": {},
   "outputs": [
    {
     "data": {
      "text/plain": [
       "<Figure size 432x288 with 0 Axes>"
      ]
     },
     "metadata": {},
     "output_type": "display_data"
    },
    {
     "data": {
      "image/png": "[encoded data removed]",
      "text/plain": [
       "<Figure size 360x360 with 1 Axes>"
      ]
     },
     "metadata": {
      "needs_background": "light"
     },
     "output_type": "display_data"
    }
   ],
   "source": [
    "# sns bar plot of from explore.py\n",
    "new_train = explore.square_footage_rounded(train)\n",
    "explore.plot_categorical_and_continuous_vars3('round_square_footage', 'tax_value', new_train.sample(1_000))"
   ]
  },
  {
   "cell_type": "code",
   "execution_count": 11,
   "id": "2cc75f65",
   "metadata": {},
   "outputs": [
    {
     "name": "stdout",
     "output_type": "stream",
     "text": [
      "The p-value is: 0.0. There is 0.0% chance that we see these results by chance.\n",
      "r = 0.43\n"
     ]
    }
   ],
   "source": [
    "r, p = stats.pearsonr(X_train_scaled['square_footage'], y_train)\n",
    "print(f'The p-value is: {p}. There is {round(p,5)}% chance that we see these results by chance.')\n",
    "print(f'r = {round(r, 2)}')"
   ]
  },
  {
   "cell_type": "code",
   "execution_count": 12,
   "id": "22a5b0a4",
   "metadata": {},
   "outputs": [
    {
     "data": {
      "text/plain": [
       "<Figure size 432x288 with 0 Axes>"
      ]
     },
     "metadata": {},
     "output_type": "display_data"
    },
    {
     "data": {
      "image/png": "[encoded data removed]",
      "text/plain": [
       "<Figure size 360x360 with 1 Axes>"
      ]
     },
     "metadata": {
      "needs_background": "light"
     },
     "output_type": "display_data"
    }
   ],
   "source": [
    "explore.plot_categorical_and_continuous_vars3('round_square_footage', 'num_baths', new_train.sample(1_000))\n"
   ]
  },
  {
   "cell_type": "code",
   "execution_count": 13,
   "id": "f58989de",
   "metadata": {},
   "outputs": [
    {
     "name": "stdout",
     "output_type": "stream",
     "text": [
      "The p-value is: 0.0. There is 0.0% chance that we see these results by chance.\n",
      "r = 0.36\n"
     ]
    }
   ],
   "source": [
    "r, p = stats.pearsonr(X_train_scaled['num_baths'], y_train)\n",
    "print(f'The p-value is: {p}. There is {round(p,2)}% chance that we see these results by chance.')\n",
    "print(f'r = {round(r, 2)}')"
   ]
  },
  {
   "cell_type": "code",
   "execution_count": 14,
   "id": "e1351804",
   "metadata": {},
   "outputs": [
    {
     "data": {
      "text/plain": [
       "<Figure size 432x288 with 0 Axes>"
      ]
     },
     "metadata": {},
     "output_type": "display_data"
    },
    {
     "data": {
      "image/png": "[encoded data removed]",
      "text/plain": [
       "<Figure size 360x360 with 1 Axes>"
      ]
     },
     "metadata": {
      "needs_background": "light"
     },
     "output_type": "display_data"
    }
   ],
   "source": [
    "explore.plot_categorical_and_continuous_vars3('round_square_footage', 'num_beds', new_train.sample(1_000))\n"
   ]
  },
  {
   "cell_type": "code",
   "execution_count": 15,
   "id": "77999085",
   "metadata": {},
   "outputs": [
    {
     "name": "stdout",
     "output_type": "stream",
     "text": [
      "The p-value is: 2.0785015490055953e-210. There is 0.0% chance that we see these results by chance.\n",
      "r = 0.19\n"
     ]
    }
   ],
   "source": [
    "r, p = stats.pearsonr(X_train_scaled['num_beds'], y_train)\n",
    "print(f'The p-value is: {p}. There is {round(p,2)}% chance that we see these results by chance.')\n",
    "print(f'r = {round(r, 2)}')"
   ]
  },
  {
   "cell_type": "code",
   "execution_count": 16,
   "id": "4608fa2f",
   "metadata": {},
   "outputs": [
    {
     "data": {
      "image/png": "[encoded data removed]",
      "text/plain": [
       "<Figure size 720x576 with 1 Axes>"
      ]
     },
     "metadata": {
      "needs_background": "light"
     },
     "output_type": "display_data"
    }
   ],
   "source": [
    "tax_by_county = pd.DataFrame({'county':train.county_code,'tax value':train.tax_value})\n",
    "explore.value_by_county()"
   ]
  },
  {
   "cell_type": "markdown",
   "id": "53dd862b",
   "metadata": {},
   "source": [
    "## Modeling"
   ]
  },
  {
   "cell_type": "code",
   "execution_count": 17,
   "id": "d80e461b",
   "metadata": {},
   "outputs": [
    {
     "data": {
      "text/html": [
       "<div>\n",
       "<style scoped>\n",
       "    .dataframe tbody tr th:only-of-type {\n",
       "        vertical-align: middle;\n",
       "    }\n",
       "\n",
       "    .dataframe tbody tr th {\n",
       "        vertical-align: top;\n",
       "    }\n",
       "\n",
       "    .dataframe thead th {\n",
       "        text-align: right;\n",
       "    }\n",
       "</style>\n",
       "<table border=\"1\" class=\"dataframe\">\n",
       "  <thead>\n",
       "    <tr style=\"text-align: right;\">\n",
       "      <th></th>\n",
       "      <th>model</th>\n",
       "      <th>RMSE_train</th>\n",
       "      <th>RMSE_validate</th>\n",
       "    </tr>\n",
       "  </thead>\n",
       "  <tbody>\n",
       "    <tr>\n",
       "      <th>0</th>\n",
       "      <td>mean_baseline</td>\n",
       "      <td>236152.362296</td>\n",
       "      <td>236027.699082</td>\n",
       "    </tr>\n",
       "  </tbody>\n",
       "</table>\n",
       "</div>"
      ],
      "text/plain": [
       "           model     RMSE_train  RMSE_validate\n",
       "0  mean_baseline  236152.362296  236027.699082"
      ]
     },
     "execution_count": 17,
     "metadata": {},
     "output_type": "execute_result"
    }
   ],
   "source": [
    "model.baseline(y_train, y_validate)"
   ]
  },
  {
   "cell_type": "code",
   "execution_count": 18,
   "id": "ed62db55",
   "metadata": {},
   "outputs": [
    {
     "data": {
      "text/html": [
       "<div>\n",
       "<style scoped>\n",
       "    .dataframe tbody tr th:only-of-type {\n",
       "        vertical-align: middle;\n",
       "    }\n",
       "\n",
       "    .dataframe tbody tr th {\n",
       "        vertical-align: top;\n",
       "    }\n",
       "\n",
       "    .dataframe thead th {\n",
       "        text-align: right;\n",
       "    }\n",
       "</style>\n",
       "<table border=\"1\" class=\"dataframe\">\n",
       "  <thead>\n",
       "    <tr style=\"text-align: right;\">\n",
       "      <th></th>\n",
       "      <th>model</th>\n",
       "      <th>RMSE_train</th>\n",
       "      <th>RMSE_validate</th>\n",
       "    </tr>\n",
       "  </thead>\n",
       "  <tbody>\n",
       "    <tr>\n",
       "      <th>0</th>\n",
       "      <td>OLS Regressor</td>\n",
       "      <td>209508.010298</td>\n",
       "      <td>208907.129593</td>\n",
       "    </tr>\n",
       "  </tbody>\n",
       "</table>\n",
       "</div>"
      ],
      "text/plain": [
       "           model     RMSE_train  RMSE_validate\n",
       "0  OLS Regressor  209508.010298  208907.129593"
      ]
     },
     "execution_count": 18,
     "metadata": {},
     "output_type": "execute_result"
    }
   ],
   "source": [
    "model.OLS(X_train_scaled, X_validate_scaled, y_train, y_validate)"
   ]
  },
  {
   "cell_type": "code",
   "execution_count": 19,
   "id": "b77af99c",
   "metadata": {},
   "outputs": [
    {
     "data": {
      "text/html": [
       "<div>\n",
       "<style scoped>\n",
       "    .dataframe tbody tr th:only-of-type {\n",
       "        vertical-align: middle;\n",
       "    }\n",
       "\n",
       "    .dataframe tbody tr th {\n",
       "        vertical-align: top;\n",
       "    }\n",
       "\n",
       "    .dataframe thead th {\n",
       "        text-align: right;\n",
       "    }\n",
       "</style>\n",
       "<table border=\"1\" class=\"dataframe\">\n",
       "  <thead>\n",
       "    <tr style=\"text-align: right;\">\n",
       "      <th></th>\n",
       "      <th>model</th>\n",
       "      <th>RMSE_train</th>\n",
       "      <th>RMSE_validate</th>\n",
       "    </tr>\n",
       "  </thead>\n",
       "  <tbody>\n",
       "    <tr>\n",
       "      <th>0</th>\n",
       "      <td>lasso_alpha0.01</td>\n",
       "      <td>209508.010332</td>\n",
       "      <td>208907.107119</td>\n",
       "    </tr>\n",
       "  </tbody>\n",
       "</table>\n",
       "</div>"
      ],
      "text/plain": [
       "             model     RMSE_train  RMSE_validate\n",
       "0  lasso_alpha0.01  209508.010332  208907.107119"
      ]
     },
     "execution_count": 19,
     "metadata": {},
     "output_type": "execute_result"
    }
   ],
   "source": [
    "model.Lasso_Lars(X_train_scaled, X_validate_scaled, y_train, y_validate)"
   ]
  },
  {
   "cell_type": "code",
   "execution_count": 20,
   "id": "a6ad4ac4",
   "metadata": {},
   "outputs": [
    {
     "data": {
      "text/html": [
       "<div>\n",
       "<style scoped>\n",
       "    .dataframe tbody tr th:only-of-type {\n",
       "        vertical-align: middle;\n",
       "    }\n",
       "\n",
       "    .dataframe tbody tr th {\n",
       "        vertical-align: top;\n",
       "    }\n",
       "\n",
       "    .dataframe thead th {\n",
       "        text-align: right;\n",
       "    }\n",
       "</style>\n",
       "<table border=\"1\" class=\"dataframe\">\n",
       "  <thead>\n",
       "    <tr style=\"text-align: right;\">\n",
       "      <th></th>\n",
       "      <th>model</th>\n",
       "      <th>RMSE_train</th>\n",
       "      <th>RMSE_validate</th>\n",
       "    </tr>\n",
       "  </thead>\n",
       "  <tbody>\n",
       "    <tr>\n",
       "      <th>0</th>\n",
       "      <td>linear_regression</td>\n",
       "      <td>209401.660425</td>\n",
       "      <td>208925.819834</td>\n",
       "    </tr>\n",
       "  </tbody>\n",
       "</table>\n",
       "</div>"
      ],
      "text/plain": [
       "               model     RMSE_train  RMSE_validate\n",
       "0  linear_regression  209401.660425  208925.819834"
      ]
     },
     "execution_count": 20,
     "metadata": {},
     "output_type": "execute_result"
    }
   ],
   "source": [
    "model.Linear_Regression(X_train_scaled, X_validate_scaled, y_train, y_validate)"
   ]
  },
  {
   "cell_type": "code",
   "execution_count": 23,
   "id": "50849886",
   "metadata": {},
   "outputs": [],
   "source": [
    "# model.Lasso_Lars_Viz(X_train_scaled, X_validate_scaled, y_train, y_validate)"
   ]
  },
  {
   "cell_type": "code",
   "execution_count": 22,
   "id": "62a45edb",
   "metadata": {},
   "outputs": [
    {
     "name": "stdout",
     "output_type": "stream",
     "text": [
      "RMSE for Lasso + Lars\n",
      "Training/In-Sample:  209508.0103322495 \n",
      "Test/Out-of-Sample:  209762.25323824695 \n",
      "Difference:  254.24290599743836\n"
     ]
    },
    {
     "data": {
      "image/png": "[encoded data removed]",
      "text/plain": [
       "<Figure size 1152x576 with 1 Axes>"
      ]
     },
     "metadata": {
      "needs_background": "light"
     },
     "output_type": "display_data"
    }
   ],
   "source": [
    "model.Lasso_Lars_Test(X_train_scaled, X_validate_scaled, y_train, y_validate, X_test_scaled, y_test)"
   ]
  },
  {
   "cell_type": "code",
   "execution_count": null,
   "id": "e00173af",
   "metadata": {},
   "outputs": [],
   "source": []
  },
  {
   "cell_type": "code",
   "execution_count": null,
   "id": "4d5e7ca9",
   "metadata": {},
   "outputs": [],
   "source": []
  }
 ],
 "metadata": {
  "kernelspec": {
   "display_name": "Python 3",
   "language": "python",
   "name": "python3"
  },
  "language_info": {
   "codemirror_mode": {
    "name": "ipython",
    "version": 3
   },
   "file_extension": ".py",
   "mimetype": "text/x-python",
   "name": "python",
   "nbconvert_exporter": "python",
   "pygments_lexer": "ipython3",
   "version": "3.8.8"
  }
 },
 "nbformat": 4,
 "nbformat_minor": 5
}
