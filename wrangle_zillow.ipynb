{
 "cells": [
  {
   "cell_type": "markdown",
   "id": "461192b5",
   "metadata": {},
   "source": [
    "## Functions to Wrangle the Zillow Data"
   ]
  },
  {
   "cell_type": "markdown",
   "id": "00b8aba0",
   "metadata": {},
   "source": [
    "### Import"
   ]
  },
  {
   "cell_type": "code",
   "execution_count": 1,
   "id": "c122d119",
   "metadata": {},
   "outputs": [],
   "source": [
    "import pandas as pd\n",
    "import numpy as np \n",
    "\n",
    "import matplotlib.pyplot as plt\n",
    "import seaborn as sns\n",
    "\n",
    "from sklearn.model_selection import train_test_split\n",
    "\n",
    "from env import host, user, password\n",
    "\n",
    "import warnings\n",
    "warnings.filterwarnings(\"ignore\")\n",
    "\n",
    "import sklearn.preprocessing"
   ]
  },
  {
   "cell_type": "markdown",
   "id": "3e7f9425",
   "metadata": {},
   "source": [
    "### Acquire Data"
   ]
  },
  {
   "cell_type": "code",
   "execution_count": 2,
   "id": "8f95549c",
   "metadata": {},
   "outputs": [],
   "source": [
    "# Connect to SQL database\n",
    "def get_db_url(db_name):\n",
    "    '''\n",
    "    This function contacts Codeup's SQL database and uses the info from \n",
    "    my env to create a connection URL.\n",
    "    '''\n",
    "    return f'mysql+pymysql://{user}:{password}@{host}/{db_name}'"
   ]
  },
  {
   "cell_type": "code",
   "execution_count": 3,
   "id": "a1c4ea3d",
   "metadata": {},
   "outputs": [],
   "source": [
    "# Get Zillow data\n",
    "\n",
    "def get_zillow_data():\n",
    "    '''\n",
    "    This function reads the zillow data from Codeup database to a dataframe,\n",
    "    and returns the dataframe.\n",
    "    '''\n",
    "    # SQL query\n",
    "    sql_query =  '''\n",
    "            \n",
    "   SELECT bedroomcnt, bathroomcnt, calculatedfinishedsquarefeet, \n",
    "                taxvaluedollarcnt, yearbuilt, taxamount, fips \n",
    "                FROM properties_2017\n",
    "                JOIN propertylandusetype USING(propertylandusetypeid)\n",
    "                JOIN predictions_2017 USING(parcelid)\n",
    "                WHERE propertylandusetype.propertylandusetypeid = 261 AND 279;'''\n",
    "    \n",
    "    # Read in DataFrame\n",
    "    df = pd.read_sql(sql_query, get_db_url('zillow'))\n",
    "    \n",
    "    df = df.rename(columns = {'bedroomcnt': 'num_beds',\n",
    "                                      'bathroomcnt': 'num_baths',\n",
    "                                      'calculatedfinishedsquarefeet': 'square_footage',\n",
    "                                      'taxvaluedollarcnt': 'tax_value',\n",
    "                                      'yearbuilt': 'year_built', 'taxamount': 'tax_amount', 'fips': 'county_code'})\n",
    "    return df\n"
   ]
  },
  {
   "cell_type": "code",
   "execution_count": 4,
   "id": "6c6fd231",
   "metadata": {},
   "outputs": [
    {
     "data": {
      "text/html": [
       "<div>\n",
       "<style scoped>\n",
       "    .dataframe tbody tr th:only-of-type {\n",
       "        vertical-align: middle;\n",
       "    }\n",
       "\n",
       "    .dataframe tbody tr th {\n",
       "        vertical-align: top;\n",
       "    }\n",
       "\n",
       "    .dataframe thead th {\n",
       "        text-align: right;\n",
       "    }\n",
       "</style>\n",
       "<table border=\"1\" class=\"dataframe\">\n",
       "  <thead>\n",
       "    <tr style=\"text-align: right;\">\n",
       "      <th></th>\n",
       "      <th>num_beds</th>\n",
       "      <th>num_baths</th>\n",
       "      <th>square_footage</th>\n",
       "      <th>tax_value</th>\n",
       "      <th>year_built</th>\n",
       "      <th>tax_amount</th>\n",
       "      <th>county_code</th>\n",
       "    </tr>\n",
       "  </thead>\n",
       "  <tbody>\n",
       "    <tr>\n",
       "      <th>0</th>\n",
       "      <td>4.0</td>\n",
       "      <td>3.5</td>\n",
       "      <td>3100.0</td>\n",
       "      <td>1023282.0</td>\n",
       "      <td>1998.0</td>\n",
       "      <td>11013.72</td>\n",
       "      <td>6059.0</td>\n",
       "    </tr>\n",
       "    <tr>\n",
       "      <th>1</th>\n",
       "      <td>2.0</td>\n",
       "      <td>1.0</td>\n",
       "      <td>1465.0</td>\n",
       "      <td>464000.0</td>\n",
       "      <td>1967.0</td>\n",
       "      <td>5672.48</td>\n",
       "      <td>6111.0</td>\n",
       "    </tr>\n",
       "    <tr>\n",
       "      <th>2</th>\n",
       "      <td>3.0</td>\n",
       "      <td>2.0</td>\n",
       "      <td>1243.0</td>\n",
       "      <td>564778.0</td>\n",
       "      <td>1962.0</td>\n",
       "      <td>6488.30</td>\n",
       "      <td>6059.0</td>\n",
       "    </tr>\n",
       "    <tr>\n",
       "      <th>3</th>\n",
       "      <td>4.0</td>\n",
       "      <td>3.0</td>\n",
       "      <td>2376.0</td>\n",
       "      <td>145143.0</td>\n",
       "      <td>1970.0</td>\n",
       "      <td>1777.51</td>\n",
       "      <td>6037.0</td>\n",
       "    </tr>\n",
       "    <tr>\n",
       "      <th>4</th>\n",
       "      <td>4.0</td>\n",
       "      <td>3.0</td>\n",
       "      <td>2962.0</td>\n",
       "      <td>773303.0</td>\n",
       "      <td>1950.0</td>\n",
       "      <td>9516.26</td>\n",
       "      <td>6037.0</td>\n",
       "    </tr>\n",
       "  </tbody>\n",
       "</table>\n",
       "</div>"
      ],
      "text/plain": [
       "   num_beds  num_baths  square_footage  tax_value  year_built  tax_amount  \\\n",
       "0       4.0        3.5          3100.0  1023282.0      1998.0    11013.72   \n",
       "1       2.0        1.0          1465.0   464000.0      1967.0     5672.48   \n",
       "2       3.0        2.0          1243.0   564778.0      1962.0     6488.30   \n",
       "3       4.0        3.0          2376.0   145143.0      1970.0     1777.51   \n",
       "4       4.0        3.0          2962.0   773303.0      1950.0     9516.26   \n",
       "\n",
       "   county_code  \n",
       "0       6059.0  \n",
       "1       6111.0  \n",
       "2       6059.0  \n",
       "3       6037.0  \n",
       "4       6037.0  "
      ]
     },
     "execution_count": 4,
     "metadata": {},
     "output_type": "execute_result"
    }
   ],
   "source": [
    "df = get_zillow_data()\n",
    "df.head()"
   ]
  },
  {
   "cell_type": "code",
   "execution_count": 5,
   "id": "e96c5d4a",
   "metadata": {},
   "outputs": [
    {
     "data": {
      "text/plain": [
       "(52442, 7)"
      ]
     },
     "execution_count": 5,
     "metadata": {},
     "output_type": "execute_result"
    }
   ],
   "source": [
    "df.shape"
   ]
  },
  {
   "cell_type": "markdown",
   "id": "291d9e19",
   "metadata": {},
   "source": [
    "### Remove Outliers"
   ]
  },
  {
   "cell_type": "code",
   "execution_count": 6,
   "id": "4f0a8182",
   "metadata": {},
   "outputs": [],
   "source": [
    "# Function to remove outliers\n",
    "def remove_outliers(df, k, col_list):\n",
    "    ''' \n",
    "        This function removes outliers from a list of columns in a df\n",
    "        then reurns that df. \n",
    "    '''\n",
    "    \n",
    "    for col in col_list:\n",
    "\n",
    "        q1, q3 = df[col].quantile([.25, .75])  # get quartiles\n",
    "        \n",
    "        iqr = q3 - q1   # calculate interquartile range\n",
    "        \n",
    "        upper_bound = q3 + k * iqr   # get upper bound\n",
    "        lower_bound = q1 - k * iqr   # get lower bound\n",
    "\n",
    "        # return dataframe sans outliers\n",
    "        \n",
    "        df = df[(df[col] > lower_bound) & (df[col] < upper_bound)]\n",
    "        \n",
    "    return df"
   ]
  },
  {
   "cell_type": "code",
   "execution_count": 7,
   "id": "b0036711",
   "metadata": {},
   "outputs": [],
   "source": [
    "split_df = df[['num_beds', 'num_baths', 'square_footage', 'tax_value']]"
   ]
  },
  {
   "cell_type": "code",
   "execution_count": 8,
   "id": "ab3230d8",
   "metadata": {},
   "outputs": [],
   "source": [
    "target = df.tax_value"
   ]
  },
  {
   "cell_type": "markdown",
   "id": "e8f31d70",
   "metadata": {},
   "source": [
    "### Visually Explore Individual Variables"
   ]
  },
  {
   "cell_type": "code",
   "execution_count": 9,
   "id": "7ab19f20",
   "metadata": {},
   "outputs": [],
   "source": [
    "def get_hist(df):\n",
    "    ''' Gets histographs of acquired continuous variables'''\n",
    "    \n",
    "    plt.figure(figsize=(16, 3))\n",
    "\n",
    "    # List of columns\n",
    "    cols = [col for col in df.columns if col not in ['county_code', 'year_built']]\n",
    "\n",
    "    for i, col in enumerate(cols):\n",
    "\n",
    "        # i starts at 0, but plot nos should start at 1\n",
    "        plot_number = i + 1 \n",
    "\n",
    "        # Create subplot.\n",
    "        plt.subplot(1, len(cols), plot_number)\n",
    "\n",
    "        # Title with column name.\n",
    "        plt.title(col)\n",
    "\n",
    "        # Display histogram for column.\n",
    "        df[col].hist(bins=5)\n",
    "\n",
    "        # Hide gridlines.\n",
    "        plt.grid(False)\n",
    "\n",
    "        # turn off scientific notation\n",
    "        plt.ticklabel_format(useOffset=False)\n",
    "\n",
    "        plt.tight_layout()\n",
    "\n",
    "    plt.show()"
   ]
  },
  {
   "cell_type": "code",
   "execution_count": 10,
   "id": "77fbcab8",
   "metadata": {},
   "outputs": [],
   "source": [
    "def get_box(df):\n",
    "    ''' Gets boxplots of acquired continuous variables'''\n",
    "    \n",
    "    # List of columns\n",
    "    cols = ['num_beds', 'num_baths', 'square_footage', 'tax_value']\n",
    "\n",
    "    plt.figure(figsize=(16, 3))\n",
    "\n",
    "    for i, col in enumerate(cols):\n",
    "\n",
    "        # i starts at 0, but plot should start at 1\n",
    "        plot_number = i + 1 \n",
    "\n",
    "        # Create subplot.\n",
    "        plt.subplot(1, len(cols), plot_number)\n",
    "\n",
    "        # Title with column name.\n",
    "        plt.title(col)\n",
    "\n",
    "        # Display boxplot for column.\n",
    "        sns.boxplot(data=df[[col]])\n",
    "\n",
    "        # Hide gridlines.\n",
    "        plt.grid(False)\n",
    "\n",
    "        # sets proper spacing between plots\n",
    "        plt.tight_layout()\n",
    "\n",
    "    plt.show()"
   ]
  },
  {
   "cell_type": "markdown",
   "id": "b6acde6a",
   "metadata": {},
   "source": [
    "### Prepare Data"
   ]
  },
  {
   "cell_type": "code",
   "execution_count": 25,
   "id": "33432df5",
   "metadata": {},
   "outputs": [],
   "source": [
    "def prepare_zillow(df):\n",
    "    ''' Prepare zillow data for exploration'''\n",
    "    \n",
    "    # removing outliers\n",
    "    df = remove_outliers(df, 1.5, ['num_beds', 'num_baths', 'square_footage', 'tax_value', 'year_built', 'tax_amount'])\n",
    "    \n",
    "    # Drop duplicates\n",
    "    df = df.drop_duplicates()\n",
    "    \n",
    "    \n",
    "    # Drop Columns\n",
    "    # Drop this column to prevent leakage in model \n",
    "    df = df.drop(columns=['tax_amount'])\n",
    "    \n",
    "    # converting column datatypes\n",
    "    #df.num_beds = df.num_beds.astype(object)\n",
    "    #df.num_baths = df.num_baths.astype(object)\n",
    "    #df.square_footage = df.square_footage.astype(object)\n",
    "    df.year_built = df.year_built.astype(object)\n",
    "    df.county_code = df.county_code.astype(object)\n",
    "    \n",
    "    # Replace county codes with county name\n",
    "    # df['county_code'] = df.county_code.replace({'6037.0':'Los Angeles', '6059.0':'Orange', '6111.0':'Ventura'})\n",
    "    \n",
    "    \n",
    "    # get distributions of numeric data\n",
    "    # univariate explorstion before splitting\n",
    "    # get_hist(df)\n",
    "    # get_box(df)\n",
    "\n",
    "    \n",
    "    # train/validate/test split\n",
    "    # splits the data for modeling and exploring, to prevent overfitting\n",
    "    train_validate, test = train_test_split(df, test_size=.2, random_state=123)\n",
    "    train, validate = train_test_split(train_validate, test_size=.3, random_state=123)\n",
    "    \n",
    "    # Use train only to explore and for fitting\n",
    "    # Only use validate to validate models after fitting on train\n",
    "    # Only use test to test best model \n",
    "    return train, validate, test "
   ]
  },
  {
   "cell_type": "markdown",
   "id": "e192a148",
   "metadata": {},
   "source": [
    "### Acquire, Prep, and Split"
   ]
  },
  {
   "cell_type": "code",
   "execution_count": 22,
   "id": "6518d61a",
   "metadata": {},
   "outputs": [],
   "source": [
    "def wrangle_zillow():\n",
    "    '''\n",
    "    This function will both aquire and prepare the zillow data.\n",
    "    It displays the histogram and boxplots before splitting the df.\n",
    "    After running this function the data is ready for exploritory analysis.\n",
    "    '''\n",
    "    train, validate, test = prepare_zillow(get_zillow_data())\n",
    "    \n",
    "    return train, validate, test"
   ]
  },
  {
   "cell_type": "code",
   "execution_count": 23,
   "id": "7cf6ca3c",
   "metadata": {
    "scrolled": true
   },
   "outputs": [
    {
     "data": {
      "image/png": "[encoded data removed]",
      "text/plain": [
       "<Figure size 1152x216 with 4 Axes>"
      ]
     },
     "metadata": {
      "needs_background": "light"
     },
     "output_type": "display_data"
    },
    {
     "data": {
      "image/png": "[encoded data removed]",
      "text/plain": [
       "<Figure size 1152x216 with 4 Axes>"
      ]
     },
     "metadata": {
      "needs_background": "light"
     },
     "output_type": "display_data"
    }
   ],
   "source": [
    "train, validate, test = wrangle_zillow()"
   ]
  },
  {
   "cell_type": "code",
   "execution_count": 24,
   "id": "adc564fe",
   "metadata": {
    "scrolled": true
   },
   "outputs": [
    {
     "data": {
      "text/html": [
       "<div>\n",
       "<style scoped>\n",
       "    .dataframe tbody tr th:only-of-type {\n",
       "        vertical-align: middle;\n",
       "    }\n",
       "\n",
       "    .dataframe tbody tr th {\n",
       "        vertical-align: top;\n",
       "    }\n",
       "\n",
       "    .dataframe thead th {\n",
       "        text-align: right;\n",
       "    }\n",
       "</style>\n",
       "<table border=\"1\" class=\"dataframe\">\n",
       "  <thead>\n",
       "    <tr style=\"text-align: right;\">\n",
       "      <th></th>\n",
       "      <th>num_beds</th>\n",
       "      <th>num_baths</th>\n",
       "      <th>square_footage</th>\n",
       "      <th>tax_value</th>\n",
       "      <th>year_built</th>\n",
       "      <th>county_code</th>\n",
       "    </tr>\n",
       "  </thead>\n",
       "  <tbody>\n",
       "    <tr>\n",
       "      <th>29516</th>\n",
       "      <td>4.0</td>\n",
       "      <td>2.5</td>\n",
       "      <td>1470.0</td>\n",
       "      <td>311578.0</td>\n",
       "      <td>1978.0</td>\n",
       "      <td>6059.0</td>\n",
       "    </tr>\n",
       "    <tr>\n",
       "      <th>41702</th>\n",
       "      <td>4.0</td>\n",
       "      <td>2.0</td>\n",
       "      <td>1208.0</td>\n",
       "      <td>306475.0</td>\n",
       "      <td>1956.0</td>\n",
       "      <td>6059.0</td>\n",
       "    </tr>\n",
       "    <tr>\n",
       "      <th>4232</th>\n",
       "      <td>3.0</td>\n",
       "      <td>3.0</td>\n",
       "      <td>2063.0</td>\n",
       "      <td>124214.0</td>\n",
       "      <td>1956.0</td>\n",
       "      <td>6037.0</td>\n",
       "    </tr>\n",
       "    <tr>\n",
       "      <th>12495</th>\n",
       "      <td>2.0</td>\n",
       "      <td>1.0</td>\n",
       "      <td>1984.0</td>\n",
       "      <td>71410.0</td>\n",
       "      <td>1913.0</td>\n",
       "      <td>6037.0</td>\n",
       "    </tr>\n",
       "    <tr>\n",
       "      <th>38584</th>\n",
       "      <td>3.0</td>\n",
       "      <td>2.0</td>\n",
       "      <td>1430.0</td>\n",
       "      <td>203928.0</td>\n",
       "      <td>1950.0</td>\n",
       "      <td>6037.0</td>\n",
       "    </tr>\n",
       "  </tbody>\n",
       "</table>\n",
       "</div>"
      ],
      "text/plain": [
       "       num_beds  num_baths  square_footage  tax_value year_built  county_code\n",
       "29516       4.0        2.5          1470.0   311578.0     1978.0       6059.0\n",
       "41702       4.0        2.0          1208.0   306475.0     1956.0       6059.0\n",
       "4232        3.0        3.0          2063.0   124214.0     1956.0       6037.0\n",
       "12495       2.0        1.0          1984.0    71410.0     1913.0       6037.0\n",
       "38584       3.0        2.0          1430.0   203928.0     1950.0       6037.0"
      ]
     },
     "execution_count": 24,
     "metadata": {},
     "output_type": "execute_result"
    }
   ],
   "source": [
    "train.head()"
   ]
  },
  {
   "cell_type": "code",
   "execution_count": 19,
   "id": "1cb455c6",
   "metadata": {},
   "outputs": [
    {
     "data": {
      "text/plain": [
       "(24858, 6)"
      ]
     },
     "execution_count": 19,
     "metadata": {},
     "output_type": "execute_result"
    }
   ],
   "source": [
    "train.shape"
   ]
  },
  {
   "cell_type": "code",
   "execution_count": 20,
   "id": "a53c2e83",
   "metadata": {},
   "outputs": [
    {
     "data": {
      "text/plain": [
       "(10654, 6)"
      ]
     },
     "execution_count": 20,
     "metadata": {},
     "output_type": "execute_result"
    }
   ],
   "source": [
    "validate.shape"
   ]
  },
  {
   "cell_type": "code",
   "execution_count": 159,
   "id": "f090659a",
   "metadata": {},
   "outputs": [
    {
     "data": {
      "text/plain": [
       "(8879, 6)"
      ]
     },
     "execution_count": 159,
     "metadata": {},
     "output_type": "execute_result"
    }
   ],
   "source": [
    "test.shape"
   ]
  },
  {
   "cell_type": "markdown",
   "id": "ded07af9",
   "metadata": {},
   "source": [
    "### Split into X and y variables"
   ]
  },
  {
   "cell_type": "code",
   "execution_count": 160,
   "id": "7a5f0f40",
   "metadata": {},
   "outputs": [],
   "source": [
    "def split_tvt_into_variables(train, validate, test, target):\n",
    "\n",
    "# split train into X (dataframe, drop target) & y (series, keep target only)\n",
    "    X_train = train.drop(columns=[target, 'year_built', 'county_code'])\n",
    "    y_train = train[target]\n",
    "    \n",
    "    # split validate into X (dataframe, drop target) & y (series, keep target only)\n",
    "    X_validate = validate.drop(columns=[target, 'year_built', 'county_code'])\n",
    "    y_validate = validate[target]\n",
    "    \n",
    "    # split test into X (dataframe, drop target) & y (series, keep target only)\n",
    "    X_test = test.drop(columns=[target, 'year_built', 'county_code'])\n",
    "    y_test = test[target]\n",
    "    \n",
    "    return train, validate, test, X_train, y_train, X_validate, y_validate, X_test, y_test\n"
   ]
  },
  {
   "cell_type": "code",
   "execution_count": 161,
   "id": "2b090e58",
   "metadata": {},
   "outputs": [],
   "source": [
    "# Run split_tvt_into_variables / the target is tax_value\n",
    "train, validate, test, X_train, y_train, X_validate, y_validate, X_test, y_test = split_tvt_into_variables(train, validate, test, target='tax_value')"
   ]
  },
  {
   "cell_type": "code",
   "execution_count": 162,
   "id": "275cbc49",
   "metadata": {},
   "outputs": [
    {
     "data": {
      "text/plain": [
       "(24858, 3)"
      ]
     },
     "execution_count": 162,
     "metadata": {},
     "output_type": "execute_result"
    }
   ],
   "source": [
    "X_train.shape"
   ]
  },
  {
   "cell_type": "code",
   "execution_count": 163,
   "id": "f6317e69",
   "metadata": {},
   "outputs": [
    {
     "data": {
      "text/html": [
       "<div>\n",
       "<style scoped>\n",
       "    .dataframe tbody tr th:only-of-type {\n",
       "        vertical-align: middle;\n",
       "    }\n",
       "\n",
       "    .dataframe tbody tr th {\n",
       "        vertical-align: top;\n",
       "    }\n",
       "\n",
       "    .dataframe thead th {\n",
       "        text-align: right;\n",
       "    }\n",
       "</style>\n",
       "<table border=\"1\" class=\"dataframe\">\n",
       "  <thead>\n",
       "    <tr style=\"text-align: right;\">\n",
       "      <th></th>\n",
       "      <th>num_beds</th>\n",
       "      <th>num_baths</th>\n",
       "      <th>square_footage</th>\n",
       "    </tr>\n",
       "  </thead>\n",
       "  <tbody>\n",
       "    <tr>\n",
       "      <th>29516</th>\n",
       "      <td>4.0</td>\n",
       "      <td>2.5</td>\n",
       "      <td>1470.0</td>\n",
       "    </tr>\n",
       "    <tr>\n",
       "      <th>41702</th>\n",
       "      <td>4.0</td>\n",
       "      <td>2.0</td>\n",
       "      <td>1208.0</td>\n",
       "    </tr>\n",
       "    <tr>\n",
       "      <th>4232</th>\n",
       "      <td>3.0</td>\n",
       "      <td>3.0</td>\n",
       "      <td>2063.0</td>\n",
       "    </tr>\n",
       "    <tr>\n",
       "      <th>12495</th>\n",
       "      <td>2.0</td>\n",
       "      <td>1.0</td>\n",
       "      <td>1984.0</td>\n",
       "    </tr>\n",
       "    <tr>\n",
       "      <th>38584</th>\n",
       "      <td>3.0</td>\n",
       "      <td>2.0</td>\n",
       "      <td>1430.0</td>\n",
       "    </tr>\n",
       "  </tbody>\n",
       "</table>\n",
       "</div>"
      ],
      "text/plain": [
       "       num_beds  num_baths  square_footage\n",
       "29516       4.0        2.5          1470.0\n",
       "41702       4.0        2.0          1208.0\n",
       "4232        3.0        3.0          2063.0\n",
       "12495       2.0        1.0          1984.0\n",
       "38584       3.0        2.0          1430.0"
      ]
     },
     "execution_count": 163,
     "metadata": {},
     "output_type": "execute_result"
    }
   ],
   "source": [
    "X_train.head()"
   ]
  },
  {
   "cell_type": "markdown",
   "id": "91c9d73b",
   "metadata": {},
   "source": [
    "### Scaling Data"
   ]
  },
  {
   "cell_type": "code",
   "execution_count": 164,
   "id": "357a4e28",
   "metadata": {},
   "outputs": [],
   "source": [
    "def Min_Max_Scaler(X_train, X_validate, X_test):\n",
    "    \"\"\"\n",
    "    Takes in X_train, X_validate and X_test dfs with numeric values only\n",
    "    Returns scaler, X_train_scaled, X_validate_scaled, X_test_scaled dfs \n",
    "    \"\"\"\n",
    "    #Fit the thing\n",
    "    scaler = sklearn.preprocessing.MinMaxScaler().fit(X_train)\n",
    "    \n",
    "    #transform the thing\n",
    "    X_train_scaled = pd.DataFrame(scaler.transform(X_train), index = X_train.index, columns = X_train.columns)\n",
    "    X_validate_scaled = pd.DataFrame(scaler.transform(X_validate), index = X_validate.index, columns = X_validate.columns)\n",
    "    X_test_scaled = pd.DataFrame(scaler.transform(X_test), index = X_test.index, columns = X_test.columns)\n",
    "    \n",
    "    return scaler, X_train_scaled, X_validate_scaled, X_test_scaled"
   ]
  },
  {
   "cell_type": "code",
   "execution_count": 165,
   "id": "7b07ae58",
   "metadata": {},
   "outputs": [],
   "source": [
    "scaler, X_train_scaled, X_validate_scaled, X_test_scaled = Min_Max_Scaler(X_train, X_validate, X_test)"
   ]
  },
  {
   "cell_type": "code",
   "execution_count": 166,
   "id": "b54ee26c",
   "metadata": {},
   "outputs": [
    {
     "data": {
      "text/plain": [
       "(24858, 3)"
      ]
     },
     "execution_count": 166,
     "metadata": {},
     "output_type": "execute_result"
    }
   ],
   "source": [
    "X_train_scaled.shape"
   ]
  },
  {
   "cell_type": "code",
   "execution_count": 167,
   "id": "88f52527",
   "metadata": {},
   "outputs": [],
   "source": [
    "def Standard_Scaler(X_train, X_validate, X_test):\n",
    "    \"\"\"\n",
    "    Takes in X_train, X_validate and X_test dfs with numeric values only\n",
    "    Returns scaler, X_train_scaled, X_validate_scaled, X_test_scaled dfs\n",
    "    \"\"\"\n",
    "\n",
    "    scaler = sklearn.preprocessing.StandardScaler().fit(X_train)\n",
    "    X_train_scaled = pd.DataFrame(scaler.transform(X_train), index = X_train.index, columns = X_train.columns)\n",
    "    X_validate_scaled = pd.DataFrame(scaler.transform(X_validate), index = X_validate.index, columns = X_validate.columns)\n",
    "    X_test_scaled = pd.DataFrame(scaler.transform(X_test), index = X_test.index, columns = X_test.columns)\n",
    "    \n",
    "    return scaler, X_train_scaled, X_validate_scaled, X_test_scaled"
   ]
  },
  {
   "cell_type": "code",
   "execution_count": 168,
   "id": "986e7eb9",
   "metadata": {},
   "outputs": [],
   "source": [
    "scaler, X_train_scaled, X_validate_scaled, X_test_scaled = Standard_Scaler(X_train, X_validate, X_test)"
   ]
  },
  {
   "cell_type": "code",
   "execution_count": 169,
   "id": "c7063be9",
   "metadata": {},
   "outputs": [
    {
     "data": {
      "text/plain": [
       "(24858, 3)"
      ]
     },
     "execution_count": 169,
     "metadata": {},
     "output_type": "execute_result"
    }
   ],
   "source": [
    "X_train_scaled.shape"
   ]
  },
  {
   "cell_type": "markdown",
   "id": "90e20533",
   "metadata": {},
   "source": [
    "### Visualize Data"
   ]
  },
  {
   "cell_type": "code",
   "execution_count": 170,
   "id": "1e06da6f",
   "metadata": {},
   "outputs": [],
   "source": [
    "#--------VISUALIZE THE SCALED DATA\n",
    "def visualize_scaled_date(scaler, scaler_name, feature):\n",
    "    scaled = scaler.fit_transform(train[[feature]])\n",
    "    fig = plt.figure(figsize = (12,6))\n",
    "\n",
    "    gs = plt.GridSpec(2,2)\n",
    "\n",
    "    ax1 = fig.add_subplot(gs[0, :])\n",
    "    ax2 = fig.add_subplot(gs[1,0])\n",
    "    ax3 = fig.add_subplot(gs[1,1])\n",
    "\n",
    "    ax1.scatter(train[[feature]], scaled)\n",
    "    ax1.set(xlabel = feature, ylabel = 'Scaled' + feature, title = scaler_name)\n",
    "\n",
    "    ax2.hist(train[[feature]])\n",
    "    ax2.set(title = 'Original')\n",
    "\n",
    "    ax3.hist(scaled)\n",
    "    ax3.set(title = 'Scaled')\n",
    "    plt.tight_layout();"
   ]
  },
  {
   "cell_type": "code",
   "execution_count": 171,
   "id": "720712cd",
   "metadata": {},
   "outputs": [],
   "source": [
    "# visualize_scaled_date(sklearn.preprocessing.MinMaxScaler(), 'Min Max Scaler', 'num_beds')\n"
   ]
  },
  {
   "cell_type": "code",
   "execution_count": null,
   "id": "d2305638",
   "metadata": {},
   "outputs": [],
   "source": []
  }
 ],
 "metadata": {
  "kernelspec": {
   "display_name": "Python 3",
   "language": "python",
   "name": "python3"
  },
  "language_info": {
   "codemirror_mode": {
    "name": "ipython",
    "version": 3
   },
   "file_extension": ".py",
   "mimetype": "text/x-python",
   "name": "python",
   "nbconvert_exporter": "python",
   "pygments_lexer": "ipython3",
   "version": "3.8.8"
  }
 },
 "nbformat": 4,
 "nbformat_minor": 5
}
